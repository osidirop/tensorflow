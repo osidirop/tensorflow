{
  "nbformat": 4,
  "nbformat_minor": 0,
  "metadata": {
    "accelerator": "GPU",
    "colab": {
      "name": "Exploring_overfitting_in_NLP.ipynb",
      "provenance": [],
      "toc_visible": true,
      "include_colab_link": true
    },
    "kernelspec": {
      "display_name": "Python 3",
      "language": "python",
      "name": "python3"
    },
    "language_info": {
      "codemirror_mode": {
        "name": "ipython",
        "version": 3
      },
      "file_extension": ".py",
      "mimetype": "text/x-python",
      "name": "python",
      "nbconvert_exporter": "python",
      "pygments_lexer": "ipython3",
      "version": "3.7.6"
    }
  },
  "cells": [
    {
      "cell_type": "markdown",
      "metadata": {
        "id": "view-in-github",
        "colab_type": "text"
      },
      "source": [
        "<a href=\"https://colab.research.google.com/github/osidirop/tensorflow/blob/main/Exploring_overfitting_in_NLP.ipynb\" target=\"_parent\"><img src=\"https://colab.research.google.com/assets/colab-badge.svg\" alt=\"Open In Colab\"/></a>"
      ]
    },
    {
      "cell_type": "code",
      "metadata": {
        "id": "zX4Kg8DUTKWO"
      },
      "source": [
        "#@title Licensed under the Apache License, Version 2.0 (the \"License\");\n",
        "# you may not use this file except in compliance with the License.\n",
        "# You may obtain a copy of the License at\n",
        "#\n",
        "# https://www.apache.org/licenses/LICENSE-2.0\n",
        "#\n",
        "# Unless required by applicable law or agreed to in writing, software\n",
        "# distributed under the License is distributed on an \"AS IS\" BASIS,\n",
        "# WITHOUT WARRANTIES OR CONDITIONS OF ANY KIND, either express or implied.\n",
        "# See the License for the specific language governing permissions and\n",
        "# limitations under the License."
      ],
      "execution_count": null,
      "outputs": []
    },
    {
      "cell_type": "markdown",
      "metadata": {
        "id": "njMc0XSaysN0"
      },
      "source": [
        "<a href=\"https://colab.research.google.com/github/lmoroney/dlaicourse/blob/master/TensorFlow%20In%20Practice/Course%203%20-%20NLP/NLP%20Course%20-%20Week%203%20Exercise%20Answer.ipynb\" target=\"_parent\"><img src=\"https://colab.research.google.com/assets/colab-badge.svg\" alt=\"Open In Colab\"/></a>"
      ]
    },
    {
      "cell_type": "code",
      "metadata": {
        "id": "hmA6EzkQJ5jt"
      },
      "source": [
        "import json\n",
        "import tensorflow as tf\n",
        "import csv\n",
        "import random\n",
        "import numpy as np\n",
        "\n",
        "from tensorflow.keras.preprocessing.text import Tokenizer\n",
        "from tensorflow.keras.preprocessing.sequence import pad_sequences\n",
        "from tensorflow.keras.utils import to_categorical\n",
        "from tensorflow.keras import regularizers\n",
        "\n",
        "\n",
        "embedding_dim = 100\n",
        "max_length = 16\n",
        "trunc_type='post'\n",
        "padding_type='post'\n",
        "oov_tok = \"<OOV>\"\n",
        "training_size=160000\n",
        "test_portion=.1\n",
        "\n",
        "corpus = []\n"
      ],
      "execution_count": null,
      "outputs": []
    },
    {
      "cell_type": "code",
      "metadata": {
        "colab": {
          "base_uri": "https://localhost:8080/"
        },
        "id": "bM0l_dORKqE0",
        "outputId": "fe4a2413-1747-4f54-9315-0750767401be"
      },
      "source": [
        "# Note that I cleaned the Stanford dataset to remove LATIN1 encoding to make it easier for Python CSV reader\n",
        "# You can do that yourself with:\n",
        "# iconv -f LATIN1 -t UTF8 training.1600000.processed.noemoticon.csv -o training_cleaned.csv\n",
        "# I then hosted it on my site to make it easier to use in this notebook\n",
        "\n",
        "!wget --no-check-certificate \\\n",
        "    https://storage.googleapis.com/laurencemoroney-blog.appspot.com/training_cleaned.csv \\\n",
        "    -O /tmp/training_cleaned.csv\n",
        "\n",
        "num_sentences = 0\n",
        "\n",
        "with open(\"/tmp/training_cleaned.csv\") as csvfile:\n",
        "    reader = csv.reader(csvfile, delimiter=',')\n",
        "    for row in reader:\n",
        "        list_item=[]\n",
        "        list_item.append(row[5])\n",
        "        this_label=row[0]\n",
        "        if this_label=='0':\n",
        "            list_item.append(0)\n",
        "        else:\n",
        "            list_item.append(1)\n",
        "        num_sentences = num_sentences + 1\n",
        "        corpus.append(list_item)\n"
      ],
      "execution_count": null,
      "outputs": [
        {
          "output_type": "stream",
          "text": [
            "--2021-01-14 07:27:44--  https://storage.googleapis.com/laurencemoroney-blog.appspot.com/training_cleaned.csv\n",
            "Resolving storage.googleapis.com (storage.googleapis.com)... 74.125.124.128, 172.217.212.128, 172.217.214.128, ...\n",
            "Connecting to storage.googleapis.com (storage.googleapis.com)|74.125.124.128|:443... connected.\n",
            "HTTP request sent, awaiting response... 200 OK\n",
            "Length: 238942690 (228M) [application/octet-stream]\n",
            "Saving to: ‘/tmp/training_cleaned.csv’\n",
            "\n",
            "/tmp/training_clean 100%[===================>] 227.87M   118MB/s    in 1.9s    \n",
            "\n",
            "2021-01-14 07:27:46 (118 MB/s) - ‘/tmp/training_cleaned.csv’ saved [238942690/238942690]\n",
            "\n"
          ],
          "name": "stdout"
        }
      ]
    },
    {
      "cell_type": "code",
      "metadata": {
        "colab": {
          "base_uri": "https://localhost:8080/"
        },
        "id": "3kxblBUjEUX-",
        "outputId": "436c30ec-d4d4-4212-d98f-cd63058be294"
      },
      "source": [
        "print(num_sentences)\n",
        "print(len(corpus))\n",
        "print(corpus[1])\n",
        "\n",
        "# Expected Output:\n",
        "# 1600000\n",
        "# 1600000\n",
        "# [\"is upset that he can't update his Facebook by texting it... and might cry as a result  School today also. Blah!\", 0]"
      ],
      "execution_count": null,
      "outputs": [
        {
          "output_type": "stream",
          "text": [
            "1600000\n",
            "1600000\n",
            "[\"is upset that he can't update his Facebook by texting it... and might cry as a result  School today also. Blah!\", 0]\n"
          ],
          "name": "stdout"
        }
      ]
    },
    {
      "cell_type": "code",
      "metadata": {
        "id": "ohOGz24lsNAD"
      },
      "source": [
        "sentences=[]\n",
        "labels=[]\n",
        "random.shuffle(corpus)\n",
        "for x in range(training_size):\n",
        "    sentences.append(corpus[x][0])\n",
        "    labels.append(corpus[x][1])\n",
        "\n",
        "\n",
        "tokenizer = Tokenizer()\n",
        "tokenizer.fit_on_texts(sentences)\n",
        "\n",
        "word_index = tokenizer.word_index\n",
        "vocab_size=len(word_index)\n",
        "\n",
        "sequences = tokenizer.texts_to_sequences(sentences)\n",
        "padded = pad_sequences(sequences, maxlen=max_length, padding=padding_type, truncating=trunc_type)\n",
        "\n",
        "split = int(test_portion * training_size)\n",
        "\n",
        "test_sequences = padded[0:split]\n",
        "training_sequences = padded[split:training_size]\n",
        "test_labels = labels[0:split]\n",
        "training_labels = labels[split:training_size]"
      ],
      "execution_count": null,
      "outputs": []
    },
    {
      "cell_type": "code",
      "metadata": {
        "colab": {
          "base_uri": "https://localhost:8080/"
        },
        "id": "gIrtRem1En3N",
        "outputId": "134debd1-d793-41ef-df79-4a7b070a482e"
      },
      "source": [
        "print(vocab_size)\n",
        "print(word_index['i'])\n",
        "# Expected Output\n",
        "# 138858\n",
        "# 1"
      ],
      "execution_count": null,
      "outputs": [
        {
          "output_type": "stream",
          "text": [
            "138774\n",
            "1\n"
          ],
          "name": "stdout"
        }
      ]
    },
    {
      "cell_type": "code",
      "metadata": {
        "colab": {
          "base_uri": "https://localhost:8080/"
        },
        "id": "C1zdgJkusRh0",
        "outputId": "cf2383fc-4384-4d7e-849f-57238d3c0ed2"
      },
      "source": [
        "# Note this is the 100 dimension version of GloVe from Stanford\n",
        "# I unzipped and hosted it on my site to make this notebook easier\n",
        "!wget --no-check-certificate \\\n",
        "    https://storage.googleapis.com/laurencemoroney-blog.appspot.com/glove.6B.100d.txt \\\n",
        "    -O /tmp/glove.6B.100d.txt\n",
        "embeddings_index = {};\n",
        "with open('/tmp/glove.6B.100d.txt') as f:\n",
        "    for line in f:\n",
        "        values = line.split();\n",
        "        word = values[0];\n",
        "        coefs = np.asarray(values[1:], dtype='float32');\n",
        "        embeddings_index[word] = coefs;\n",
        "\n",
        "embeddings_matrix = np.zeros((vocab_size+1, embedding_dim));\n",
        "for word, i in word_index.items():\n",
        "    embedding_vector = embeddings_index.get(word);\n",
        "    if embedding_vector is not None:\n",
        "        embeddings_matrix[i] = embedding_vector;"
      ],
      "execution_count": null,
      "outputs": [
        {
          "output_type": "stream",
          "text": [
            "--2021-01-14 07:28:28--  https://storage.googleapis.com/laurencemoroney-blog.appspot.com/glove.6B.100d.txt\n",
            "Resolving storage.googleapis.com (storage.googleapis.com)... 108.177.111.128, 108.177.121.128, 173.194.193.128, ...\n",
            "Connecting to storage.googleapis.com (storage.googleapis.com)|108.177.111.128|:443... connected.\n",
            "HTTP request sent, awaiting response... 200 OK\n",
            "Length: 347116733 (331M) [text/plain]\n",
            "Saving to: ‘/tmp/glove.6B.100d.txt’\n",
            "\n",
            "/tmp/glove.6B.100d. 100%[===================>] 331.04M   100MB/s    in 3.3s    \n",
            "\n",
            "2021-01-14 07:28:31 (100 MB/s) - ‘/tmp/glove.6B.100d.txt’ saved [347116733/347116733]\n",
            "\n"
          ],
          "name": "stdout"
        }
      ]
    },
    {
      "cell_type": "code",
      "metadata": {
        "colab": {
          "base_uri": "https://localhost:8080/"
        },
        "id": "71NLk_lpFLNt",
        "outputId": "07445df2-cbf3-4ab6-e8f0-793fcbb66598"
      },
      "source": [
        "print(len(embeddings_matrix))\n",
        "# Expected Output\n",
        "# 138859"
      ],
      "execution_count": null,
      "outputs": [
        {
          "output_type": "stream",
          "text": [
            "138775\n"
          ],
          "name": "stdout"
        }
      ]
    },
    {
      "cell_type": "code",
      "metadata": {
        "colab": {
          "base_uri": "https://localhost:8080/"
        },
        "id": "iKKvbuEBOGFz",
        "outputId": "9bfc054d-9b40-422f-e2f0-10de6e89150d"
      },
      "source": [
        "model = tf.keras.Sequential([\n",
        "    tf.keras.layers.Embedding(vocab_size+1, embedding_dim, input_length=max_length, weights=[embeddings_matrix], trainable=False),\n",
        "    tf.keras.layers.Dropout(0.2),\n",
        "    tf.keras.layers.Conv1D(64, 5, activation='relu'),\n",
        "    tf.keras.layers.MaxPooling1D(pool_size=4),\n",
        "    tf.keras.layers.LSTM(64),\n",
        "    tf.keras.layers.Dense(1, activation='sigmoid')\n",
        "])\n",
        "model.compile(loss='binary_crossentropy',optimizer='adam',metrics=['accuracy'])\n",
        "model.summary()\n",
        "\n",
        "num_epochs = 50\n",
        "\n",
        "training_padded = np.array(training_sequences)\n",
        "training_labels = np.array(training_labels)\n",
        "testing_padded = np.array(test_sequences)\n",
        "testing_labels = np.array(test_labels)\n",
        "\n",
        "history = model.fit(training_padded, training_labels, epochs=num_epochs, validation_data=(testing_padded, testing_labels), verbose=2)\n",
        "\n",
        "print(\"Training Complete\")"
      ],
      "execution_count": null,
      "outputs": [
        {
          "output_type": "stream",
          "text": [
            "Model: \"sequential\"\n",
            "_________________________________________________________________\n",
            "Layer (type)                 Output Shape              Param #   \n",
            "=================================================================\n",
            "embedding (Embedding)        (None, 16, 100)           13877500  \n",
            "_________________________________________________________________\n",
            "dropout (Dropout)            (None, 16, 100)           0         \n",
            "_________________________________________________________________\n",
            "conv1d (Conv1D)              (None, 12, 64)            32064     \n",
            "_________________________________________________________________\n",
            "max_pooling1d (MaxPooling1D) (None, 3, 64)             0         \n",
            "_________________________________________________________________\n",
            "lstm (LSTM)                  (None, 64)                33024     \n",
            "_________________________________________________________________\n",
            "dense (Dense)                (None, 1)                 65        \n",
            "=================================================================\n",
            "Total params: 13,942,653\n",
            "Trainable params: 65,153\n",
            "Non-trainable params: 13,877,500\n",
            "_________________________________________________________________\n",
            "Epoch 1/50\n",
            "4500/4500 - 22s - loss: 0.5672 - accuracy: 0.6990 - val_loss: 0.5305 - val_accuracy: 0.7343\n",
            "Epoch 2/50\n",
            "4500/4500 - 14s - loss: 0.5258 - accuracy: 0.7325 - val_loss: 0.5165 - val_accuracy: 0.7414\n",
            "Epoch 3/50\n",
            "4500/4500 - 14s - loss: 0.5096 - accuracy: 0.7447 - val_loss: 0.5085 - val_accuracy: 0.7466\n",
            "Epoch 4/50\n",
            "4500/4500 - 14s - loss: 0.4976 - accuracy: 0.7533 - val_loss: 0.5058 - val_accuracy: 0.7491\n",
            "Epoch 5/50\n",
            "4500/4500 - 14s - loss: 0.4900 - accuracy: 0.7574 - val_loss: 0.5057 - val_accuracy: 0.7483\n",
            "Epoch 6/50\n",
            "4500/4500 - 14s - loss: 0.4825 - accuracy: 0.7626 - val_loss: 0.5121 - val_accuracy: 0.7496\n",
            "Epoch 7/50\n",
            "4500/4500 - 14s - loss: 0.4762 - accuracy: 0.7663 - val_loss: 0.5052 - val_accuracy: 0.7499\n",
            "Epoch 8/50\n",
            "4500/4500 - 14s - loss: 0.4712 - accuracy: 0.7701 - val_loss: 0.5071 - val_accuracy: 0.7519\n",
            "Epoch 9/50\n",
            "4500/4500 - 14s - loss: 0.4676 - accuracy: 0.7723 - val_loss: 0.5108 - val_accuracy: 0.7500\n",
            "Epoch 10/50\n",
            "4500/4500 - 14s - loss: 0.4655 - accuracy: 0.7727 - val_loss: 0.5026 - val_accuracy: 0.7538\n",
            "Epoch 11/50\n",
            "4500/4500 - 15s - loss: 0.4608 - accuracy: 0.7756 - val_loss: 0.5120 - val_accuracy: 0.7486\n",
            "Epoch 12/50\n",
            "4500/4500 - 14s - loss: 0.4575 - accuracy: 0.7767 - val_loss: 0.5130 - val_accuracy: 0.7552\n",
            "Epoch 13/50\n",
            "4500/4500 - 14s - loss: 0.4546 - accuracy: 0.7798 - val_loss: 0.5099 - val_accuracy: 0.7514\n",
            "Epoch 14/50\n",
            "4500/4500 - 14s - loss: 0.4521 - accuracy: 0.7816 - val_loss: 0.5095 - val_accuracy: 0.7502\n",
            "Epoch 15/50\n",
            "4500/4500 - 14s - loss: 0.4488 - accuracy: 0.7833 - val_loss: 0.5146 - val_accuracy: 0.7527\n",
            "Epoch 16/50\n",
            "4500/4500 - 14s - loss: 0.4486 - accuracy: 0.7830 - val_loss: 0.5194 - val_accuracy: 0.7492\n",
            "Epoch 17/50\n",
            "4500/4500 - 14s - loss: 0.4457 - accuracy: 0.7852 - val_loss: 0.5160 - val_accuracy: 0.7504\n",
            "Epoch 18/50\n",
            "4500/4500 - 14s - loss: 0.4446 - accuracy: 0.7856 - val_loss: 0.5213 - val_accuracy: 0.7499\n",
            "Epoch 19/50\n",
            "4500/4500 - 14s - loss: 0.4431 - accuracy: 0.7862 - val_loss: 0.5143 - val_accuracy: 0.7513\n",
            "Epoch 20/50\n",
            "4500/4500 - 14s - loss: 0.4428 - accuracy: 0.7880 - val_loss: 0.5103 - val_accuracy: 0.7538\n",
            "Epoch 21/50\n",
            "4500/4500 - 14s - loss: 0.4410 - accuracy: 0.7875 - val_loss: 0.5125 - val_accuracy: 0.7501\n",
            "Epoch 22/50\n",
            "4500/4500 - 14s - loss: 0.4388 - accuracy: 0.7905 - val_loss: 0.5176 - val_accuracy: 0.7501\n",
            "Epoch 23/50\n",
            "4500/4500 - 14s - loss: 0.4371 - accuracy: 0.7904 - val_loss: 0.5202 - val_accuracy: 0.7466\n",
            "Epoch 24/50\n",
            "4500/4500 - 14s - loss: 0.4367 - accuracy: 0.7913 - val_loss: 0.5168 - val_accuracy: 0.7529\n",
            "Epoch 25/50\n",
            "4500/4500 - 14s - loss: 0.4364 - accuracy: 0.7907 - val_loss: 0.5141 - val_accuracy: 0.7515\n",
            "Epoch 26/50\n",
            "4500/4500 - 14s - loss: 0.4360 - accuracy: 0.7904 - val_loss: 0.5197 - val_accuracy: 0.7501\n",
            "Epoch 27/50\n",
            "4500/4500 - 14s - loss: 0.4357 - accuracy: 0.7917 - val_loss: 0.5198 - val_accuracy: 0.7461\n",
            "Epoch 28/50\n",
            "4500/4500 - 14s - loss: 0.4344 - accuracy: 0.7917 - val_loss: 0.5138 - val_accuracy: 0.7508\n",
            "Epoch 29/50\n",
            "4500/4500 - 14s - loss: 0.4330 - accuracy: 0.7933 - val_loss: 0.5210 - val_accuracy: 0.7473\n",
            "Epoch 30/50\n",
            "4500/4500 - 14s - loss: 0.4321 - accuracy: 0.7934 - val_loss: 0.5304 - val_accuracy: 0.7487\n",
            "Epoch 31/50\n",
            "4500/4500 - 14s - loss: 0.4312 - accuracy: 0.7936 - val_loss: 0.5237 - val_accuracy: 0.7499\n",
            "Epoch 32/50\n",
            "4500/4500 - 14s - loss: 0.4313 - accuracy: 0.7937 - val_loss: 0.5216 - val_accuracy: 0.7443\n",
            "Epoch 33/50\n",
            "4500/4500 - 15s - loss: 0.4310 - accuracy: 0.7940 - val_loss: 0.5258 - val_accuracy: 0.7481\n",
            "Epoch 34/50\n",
            "4500/4500 - 14s - loss: 0.4301 - accuracy: 0.7953 - val_loss: 0.5280 - val_accuracy: 0.7458\n",
            "Epoch 35/50\n",
            "4500/4500 - 14s - loss: 0.4302 - accuracy: 0.7939 - val_loss: 0.5261 - val_accuracy: 0.7449\n",
            "Epoch 36/50\n",
            "4500/4500 - 14s - loss: 0.4294 - accuracy: 0.7948 - val_loss: 0.5256 - val_accuracy: 0.7496\n",
            "Epoch 37/50\n",
            "4500/4500 - 14s - loss: 0.4296 - accuracy: 0.7951 - val_loss: 0.5242 - val_accuracy: 0.7490\n",
            "Epoch 38/50\n",
            "4500/4500 - 14s - loss: 0.4292 - accuracy: 0.7960 - val_loss: 0.5208 - val_accuracy: 0.7499\n",
            "Epoch 39/50\n",
            "4500/4500 - 14s - loss: 0.4301 - accuracy: 0.7942 - val_loss: 0.5230 - val_accuracy: 0.7484\n",
            "Epoch 40/50\n",
            "4500/4500 - 14s - loss: 0.4281 - accuracy: 0.7955 - val_loss: 0.5291 - val_accuracy: 0.7456\n",
            "Epoch 41/50\n",
            "4500/4500 - 14s - loss: 0.4279 - accuracy: 0.7959 - val_loss: 0.5227 - val_accuracy: 0.7463\n",
            "Epoch 42/50\n",
            "4500/4500 - 14s - loss: 0.4280 - accuracy: 0.7958 - val_loss: 0.5250 - val_accuracy: 0.7459\n",
            "Epoch 43/50\n",
            "4500/4500 - 14s - loss: 0.4263 - accuracy: 0.7980 - val_loss: 0.5276 - val_accuracy: 0.7466\n",
            "Epoch 44/50\n",
            "4500/4500 - 14s - loss: 0.4259 - accuracy: 0.7975 - val_loss: 0.5262 - val_accuracy: 0.7481\n",
            "Epoch 45/50\n",
            "4500/4500 - 14s - loss: 0.4260 - accuracy: 0.7979 - val_loss: 0.5236 - val_accuracy: 0.7462\n",
            "Epoch 46/50\n",
            "4500/4500 - 14s - loss: 0.4261 - accuracy: 0.7974 - val_loss: 0.5233 - val_accuracy: 0.7490\n",
            "Epoch 47/50\n",
            "4500/4500 - 14s - loss: 0.4244 - accuracy: 0.7973 - val_loss: 0.5315 - val_accuracy: 0.7473\n",
            "Epoch 48/50\n",
            "4500/4500 - 14s - loss: 0.4254 - accuracy: 0.7984 - val_loss: 0.5245 - val_accuracy: 0.7496\n",
            "Epoch 49/50\n",
            "4500/4500 - 14s - loss: 0.4252 - accuracy: 0.7972 - val_loss: 0.5259 - val_accuracy: 0.7482\n",
            "Epoch 50/50\n",
            "4500/4500 - 14s - loss: 0.4254 - accuracy: 0.7987 - val_loss: 0.5325 - val_accuracy: 0.7439\n",
            "Training Complete\n"
          ],
          "name": "stdout"
        }
      ]
    },
    {
      "cell_type": "code",
      "metadata": {
        "colab": {
          "base_uri": "https://localhost:8080/",
          "height": 608
        },
        "id": "qxju4ItJKO8F",
        "outputId": "7af261c8-ea59-489f-b76f-3b412eaa7372"
      },
      "source": [
        "import matplotlib.image  as mpimg\n",
        "import matplotlib.pyplot as plt\n",
        "\n",
        "#-----------------------------------------------------------\n",
        "# Retrieve a list of list results on training and test data\n",
        "# sets for each training epoch\n",
        "#-----------------------------------------------------------\n",
        "acc=history.history['accuracy']\n",
        "val_acc=history.history['val_accuracy']\n",
        "loss=history.history['loss']\n",
        "val_loss=history.history['val_loss']\n",
        "\n",
        "epochs=range(len(acc)) # Get number of epochs\n",
        "\n",
        "#------------------------------------------------\n",
        "# Plot training and validation accuracy per epoch\n",
        "#------------------------------------------------\n",
        "plt.plot(epochs, acc, 'r')\n",
        "plt.plot(epochs, val_acc, 'b')\n",
        "plt.title('Training and validation accuracy')\n",
        "plt.xlabel(\"Epochs\")\n",
        "plt.ylabel(\"Accuracy\")\n",
        "plt.legend([\"Accuracy\", \"Validation Accuracy\"])\n",
        "\n",
        "plt.figure()\n",
        "\n",
        "#------------------------------------------------\n",
        "# Plot training and validation loss per epoch\n",
        "#------------------------------------------------\n",
        "plt.plot(epochs, loss, 'r')\n",
        "plt.plot(epochs, val_loss, 'b')\n",
        "plt.title('Training and validation loss')\n",
        "plt.xlabel(\"Epochs\")\n",
        "plt.ylabel(\"Loss\")\n",
        "plt.legend([\"Loss\", \"Validation Loss\"])\n",
        "\n",
        "plt.figure()\n",
        "\n",
        "\n",
        "# Expected Output\n",
        "# A chart where the validation loss does not increase sharply!"
      ],
      "execution_count": null,
      "outputs": [
        {
          "output_type": "execute_result",
          "data": {
            "text/plain": [
              "<Figure size 432x288 with 0 Axes>"
            ]
          },
          "metadata": {
            "tags": []
          },
          "execution_count": 10
        },
        {
          "output_type": "display_data",
          "data": {
            "image/png": "[encoded data removed]",
            "text/plain": [
              "<Figure size 432x288 with 1 Axes>"
            ]
          },
          "metadata": {
            "tags": [],
            "needs_background": "light"
          }
        },
        {
          "output_type": "display_data",
          "data": {
            "image/png": "[encoded data removed]",
            "text/plain": [
              "<Figure size 432x288 with 1 Axes>"
            ]
          },
          "metadata": {
            "tags": [],
            "needs_background": "light"
          }
        },
        {
          "output_type": "display_data",
          "data": {
            "text/plain": [
              "<Figure size 432x288 with 0 Axes>"
            ]
          },
          "metadata": {
            "tags": []
          }
        }
      ]
    }
  ]
}