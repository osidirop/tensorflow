{
  "nbformat": 4,
  "nbformat_minor": 0,
  "metadata": {
    "accelerator": "GPU",
    "colab": {
      "name": "NLP_on_sarcasm_dataset.ipynb",
      "provenance": [],
      "collapsed_sections": [],
      "toc_visible": true,
      "include_colab_link": true
    },
    "kernelspec": {
      "display_name": "Python 3",
      "name": "python3"
    }
  },
  "cells": [
    {
      "cell_type": "markdown",
      "metadata": {
        "id": "view-in-github",
        "colab_type": "text"
      },
      "source": [
        "<a href=\"https://colab.research.google.com/github/osidirop/tensorflow/blob/main/NLP_on_sarcasm_dataset.ipynb\" target=\"_parent\"><img src=\"https://colab.research.google.com/assets/colab-badge.svg\" alt=\"Open In Colab\"/></a>"
      ]
    },
    {
      "cell_type": "code",
      "metadata": {
        "id": "zX4Kg8DUTKWO"
      },
      "source": [
        "#@title Licensed under the Apache License, Version 2.0 (the \"License\");\n",
        "# you may not use this file except in compliance with the License.\n",
        "# You may obtain a copy of the License at\n",
        "#\n",
        "# https://www.apache.org/licenses/LICENSE-2.0\n",
        "#\n",
        "# Unless required by applicable law or agreed to in writing, software\n",
        "# distributed under the License is distributed on an \"AS IS\" BASIS,\n",
        "# WITHOUT WARRANTIES OR CONDITIONS OF ANY KIND, either express or implied.\n",
        "# See the License for the specific language governing permissions and\n",
        "# limitations under the License."
      ],
      "execution_count": null,
      "outputs": []
    },
    {
      "cell_type": "markdown",
      "metadata": {
        "id": "view-in-github"
      },
      "source": [
        "<a href=\"https://colab.research.google.com/github/lmoroney/dlaicourse/blob/master/TensorFlow%20In%20Practice/Course%203%20-%20NLP/Course%203%20-%20Week%202%20-%20Lesson%202.ipynb\" target=\"_parent\"><img src=\"https://colab.research.google.com/assets/colab-badge.svg\" alt=\"Open In Colab\"/></a>"
      ]
    },
    {
      "cell_type": "code",
      "metadata": {
        "id": "4gs9htvM7n_x"
      },
      "source": [
        "# Run this to ensure TensorFlow 2.x is used\n",
        "try:\n",
        "  # %tensorflow_version only exists in Colab.\n",
        "  %tensorflow_version 2.x\n",
        "except Exception:\n",
        "  pass"
      ],
      "execution_count": 1,
      "outputs": []
    },
    {
      "cell_type": "code",
      "metadata": {
        "id": "XYYDvoskkE61"
      },
      "source": [
        "import json\n",
        "import tensorflow as tf\n",
        "\n",
        "from tensorflow.keras.preprocessing.text import Tokenizer\n",
        "from tensorflow.keras.preprocessing.sequence import pad_sequences"
      ],
      "execution_count": 2,
      "outputs": []
    },
    {
      "cell_type": "code",
      "metadata": {
        "id": "0eJSTTYnkJQd"
      },
      "source": [
        "# Hyperparameters that can be tuned\n",
        "\n",
        "vocab_size = 1000 # was 10000 and overfitting was clear\n",
        "embedding_dim = 32 # was 16 \n",
        "max_length = 100\n",
        "trunc_type='post'\n",
        "padding_type='post'\n",
        "oov_tok = \"<OOV>\"\n",
        "training_size = 20000\n"
      ],
      "execution_count": 24,
      "outputs": []
    },
    {
      "cell_type": "code",
      "metadata": {
        "id": "BQVuQrZNkPn9",
        "colab": {
          "base_uri": "https://localhost:8080/"
        },
        "outputId": "d2e0b025-cba5-4b60-ec5b-dab70765da5b"
      },
      "source": [
        "!wget --no-check-certificate \\\n",
        "    https://storage.googleapis.com/laurencemoroney-blog.appspot.com/sarcasm.json \\\n",
        "    -O /tmp/sarcasm.json\n"
      ],
      "execution_count": 4,
      "outputs": [
        {
          "output_type": "stream",
          "text": [
            "--2021-01-13 18:08:40--  https://storage.googleapis.com/laurencemoroney-blog.appspot.com/sarcasm.json\n",
            "Resolving storage.googleapis.com (storage.googleapis.com)... 173.194.79.128, 108.177.119.128, 108.177.126.128, ...\n",
            "Connecting to storage.googleapis.com (storage.googleapis.com)|173.194.79.128|:443... connected.\n",
            "HTTP request sent, awaiting response... 200 OK\n",
            "Length: 5643545 (5.4M) [application/json]\n",
            "Saving to: ‘/tmp/sarcasm.json’\n",
            "\n",
            "/tmp/sarcasm.json   100%[===================>]   5.38M  33.9MB/s    in 0.2s    \n",
            "\n",
            "2021-01-13 18:08:40 (33.9 MB/s) - ‘/tmp/sarcasm.json’ saved [5643545/5643545]\n",
            "\n"
          ],
          "name": "stdout"
        }
      ]
    },
    {
      "cell_type": "code",
      "metadata": {
        "id": "oaLaaqhNkUPd"
      },
      "source": [
        "with open(\"/tmp/sarcasm.json\", 'r') as f:\n",
        "    datastore = json.load(f)\n",
        "\n",
        "sentences = []\n",
        "labels = []\n",
        "\n",
        "for item in datastore:\n",
        "    sentences.append(item['headline'])\n",
        "    labels.append(item['is_sarcastic'])"
      ],
      "execution_count": 17,
      "outputs": []
    },
    {
      "cell_type": "code",
      "metadata": {
        "id": "S1sD-7v0kYWk"
      },
      "source": [
        "training_sentences = sentences[0:training_size]\n",
        "testing_sentences = sentences[training_size:]\n",
        "training_labels = labels[0:training_size]\n",
        "testing_labels = labels[training_size:]"
      ],
      "execution_count": 25,
      "outputs": []
    },
    {
      "cell_type": "code",
      "metadata": {
        "id": "3u8UB0MCkZ5N"
      },
      "source": [
        "tokenizer = Tokenizer(num_words=vocab_size, oov_token=oov_tok)\n",
        "tokenizer.fit_on_texts(training_sentences)\n",
        "\n",
        "word_index = tokenizer.word_index\n",
        "\n",
        "training_sequences = tokenizer.texts_to_sequences(training_sentences)\n",
        "training_padded = pad_sequences(training_sequences, maxlen=max_length, padding=padding_type, truncating=trunc_type)\n",
        "\n",
        "testing_sequences = tokenizer.texts_to_sequences(testing_sentences)\n",
        "testing_padded = pad_sequences(testing_sequences, maxlen=max_length, padding=padding_type, truncating=trunc_type)"
      ],
      "execution_count": 26,
      "outputs": []
    },
    {
      "cell_type": "code",
      "metadata": {
        "id": "GrAlWBKf99Ya"
      },
      "source": [
        "# Need this block to get it to work with TensorFlow 2.x\n",
        "import numpy as np\n",
        "training_padded = np.array(training_padded)\n",
        "training_labels = np.array(training_labels)\n",
        "testing_padded = np.array(testing_padded)\n",
        "testing_labels = np.array(testing_labels)"
      ],
      "execution_count": 27,
      "outputs": []
    },
    {
      "cell_type": "code",
      "metadata": {
        "id": "FufaT4vlkiDE"
      },
      "source": [
        "model = tf.keras.Sequential([\n",
        "    tf.keras.layers.Embedding(vocab_size, embedding_dim, input_length=max_length),\n",
        "    tf.keras.layers.GlobalAveragePooling1D(),\n",
        "    tf.keras.layers.Dense(24, activation='relu'),\n",
        "    tf.keras.layers.Dense(1, activation='sigmoid')\n",
        "])\n",
        "model.compile(loss='binary_crossentropy',optimizer='adam',metrics=['accuracy'])"
      ],
      "execution_count": 28,
      "outputs": []
    },
    {
      "cell_type": "code",
      "metadata": {
        "id": "XfDt1hmYkiys",
        "colab": {
          "base_uri": "https://localhost:8080/"
        },
        "outputId": "8867b873-f5d3-4525-e48a-6d8abd2286d1"
      },
      "source": [
        "model.summary()\n"
      ],
      "execution_count": 29,
      "outputs": [
        {
          "output_type": "stream",
          "text": [
            "Model: \"sequential_2\"\n",
            "_________________________________________________________________\n",
            "Layer (type)                 Output Shape              Param #   \n",
            "=================================================================\n",
            "embedding_2 (Embedding)      (None, 100, 32)           32000     \n",
            "_________________________________________________________________\n",
            "global_average_pooling1d_2 ( (None, 32)                0         \n",
            "_________________________________________________________________\n",
            "dense_4 (Dense)              (None, 24)                792       \n",
            "_________________________________________________________________\n",
            "dense_5 (Dense)              (None, 1)                 25        \n",
            "=================================================================\n",
            "Total params: 32,817\n",
            "Trainable params: 32,817\n",
            "Non-trainable params: 0\n",
            "_________________________________________________________________\n"
          ],
          "name": "stdout"
        }
      ]
    },
    {
      "cell_type": "code",
      "metadata": {
        "id": "2DTKQFf1kkyc",
        "colab": {
          "base_uri": "https://localhost:8080/"
        },
        "outputId": "44179fa9-c233-4ba3-f91b-010f0f5af3ee"
      },
      "source": [
        "num_epochs = 30\n",
        "history = model.fit(training_padded, training_labels, epochs=num_epochs, validation_data=(testing_padded, testing_labels), verbose=2)"
      ],
      "execution_count": 30,
      "outputs": [
        {
          "output_type": "stream",
          "text": [
            "Epoch 1/30\n",
            "625/625 - 2s - loss: 0.6370 - accuracy: 0.6239 - val_loss: 0.5154 - val_accuracy: 0.7572\n",
            "Epoch 2/30\n",
            "625/625 - 2s - loss: 0.4383 - accuracy: 0.8014 - val_loss: 0.4193 - val_accuracy: 0.8027\n",
            "Epoch 3/30\n",
            "625/625 - 2s - loss: 0.3880 - accuracy: 0.8231 - val_loss: 0.4112 - val_accuracy: 0.8049\n",
            "Epoch 4/30\n",
            "625/625 - 2s - loss: 0.3719 - accuracy: 0.8314 - val_loss: 0.3989 - val_accuracy: 0.8161\n",
            "Epoch 5/30\n",
            "625/625 - 2s - loss: 0.3635 - accuracy: 0.8324 - val_loss: 0.3982 - val_accuracy: 0.8137\n",
            "Epoch 6/30\n",
            "625/625 - 2s - loss: 0.3591 - accuracy: 0.8382 - val_loss: 0.4034 - val_accuracy: 0.8150\n",
            "Epoch 7/30\n",
            "625/625 - 2s - loss: 0.3560 - accuracy: 0.8379 - val_loss: 0.4045 - val_accuracy: 0.8073\n",
            "Epoch 8/30\n",
            "625/625 - 2s - loss: 0.3549 - accuracy: 0.8371 - val_loss: 0.4007 - val_accuracy: 0.8143\n",
            "Epoch 9/30\n",
            "625/625 - 2s - loss: 0.3534 - accuracy: 0.8381 - val_loss: 0.4146 - val_accuracy: 0.8050\n",
            "Epoch 10/30\n",
            "625/625 - 2s - loss: 0.3516 - accuracy: 0.8395 - val_loss: 0.4123 - val_accuracy: 0.8053\n",
            "Epoch 11/30\n",
            "625/625 - 2s - loss: 0.3508 - accuracy: 0.8401 - val_loss: 0.4077 - val_accuracy: 0.8114\n",
            "Epoch 12/30\n",
            "625/625 - 2s - loss: 0.3499 - accuracy: 0.8404 - val_loss: 0.4130 - val_accuracy: 0.8116\n",
            "Epoch 13/30\n",
            "625/625 - 2s - loss: 0.3482 - accuracy: 0.8413 - val_loss: 0.4110 - val_accuracy: 0.8120\n",
            "Epoch 14/30\n",
            "625/625 - 2s - loss: 0.3476 - accuracy: 0.8432 - val_loss: 0.4173 - val_accuracy: 0.8053\n",
            "Epoch 15/30\n",
            "625/625 - 2s - loss: 0.3492 - accuracy: 0.8421 - val_loss: 0.4184 - val_accuracy: 0.8092\n",
            "Epoch 16/30\n",
            "625/625 - 2s - loss: 0.3506 - accuracy: 0.8416 - val_loss: 0.4060 - val_accuracy: 0.8119\n",
            "Epoch 17/30\n",
            "625/625 - 2s - loss: 0.3467 - accuracy: 0.8418 - val_loss: 0.4173 - val_accuracy: 0.8052\n",
            "Epoch 18/30\n",
            "625/625 - 2s - loss: 0.3502 - accuracy: 0.8400 - val_loss: 0.4106 - val_accuracy: 0.8101\n",
            "Epoch 19/30\n",
            "625/625 - 2s - loss: 0.3486 - accuracy: 0.8411 - val_loss: 0.4109 - val_accuracy: 0.8114\n",
            "Epoch 20/30\n",
            "625/625 - 2s - loss: 0.3483 - accuracy: 0.8434 - val_loss: 0.4077 - val_accuracy: 0.8122\n",
            "Epoch 21/30\n",
            "625/625 - 2s - loss: 0.3461 - accuracy: 0.8426 - val_loss: 0.4134 - val_accuracy: 0.8088\n",
            "Epoch 22/30\n",
            "625/625 - 2s - loss: 0.3470 - accuracy: 0.8439 - val_loss: 0.4089 - val_accuracy: 0.8097\n",
            "Epoch 23/30\n",
            "625/625 - 2s - loss: 0.3471 - accuracy: 0.8409 - val_loss: 0.4097 - val_accuracy: 0.8098\n",
            "Epoch 24/30\n",
            "625/625 - 2s - loss: 0.3466 - accuracy: 0.8432 - val_loss: 0.4090 - val_accuracy: 0.8126\n",
            "Epoch 25/30\n",
            "625/625 - 2s - loss: 0.3477 - accuracy: 0.8412 - val_loss: 0.4283 - val_accuracy: 0.8061\n",
            "Epoch 26/30\n",
            "625/625 - 2s - loss: 0.3465 - accuracy: 0.8430 - val_loss: 0.4112 - val_accuracy: 0.8103\n",
            "Epoch 27/30\n",
            "625/625 - 2s - loss: 0.3467 - accuracy: 0.8436 - val_loss: 0.4085 - val_accuracy: 0.8120\n",
            "Epoch 28/30\n",
            "625/625 - 2s - loss: 0.3455 - accuracy: 0.8439 - val_loss: 0.4090 - val_accuracy: 0.8122\n",
            "Epoch 29/30\n",
            "625/625 - 2s - loss: 0.3471 - accuracy: 0.8424 - val_loss: 0.4104 - val_accuracy: 0.8107\n",
            "Epoch 30/30\n",
            "625/625 - 2s - loss: 0.3448 - accuracy: 0.8445 - val_loss: 0.4108 - val_accuracy: 0.8104\n"
          ],
          "name": "stdout"
        }
      ]
    },
    {
      "cell_type": "code",
      "metadata": {
        "id": "2HYfBKXjkmU8",
        "colab": {
          "base_uri": "https://localhost:8080/",
          "height": 544
        },
        "outputId": "834582fb-5b2d-42d1-ef53-807880d1a854"
      },
      "source": [
        "import matplotlib.pyplot as plt\n",
        "\n",
        "\n",
        "def plot_graphs(history, string):\n",
        "  plt.plot(history.history[string])\n",
        "  plt.plot(history.history['val_'+string])\n",
        "  plt.xlabel(\"Epochs\")\n",
        "  plt.ylabel(string)\n",
        "  plt.legend([string, 'val_'+string])\n",
        "  plt.show()\n",
        "  \n",
        "plot_graphs(history, \"accuracy\")\n",
        "plot_graphs(history, \"loss\")"
      ],
      "execution_count": 31,
      "outputs": [
        {
          "output_type": "display_data",
          "data": {
            "image/png": "[encoded data removed]",
            "text/plain": [
              "<Figure size 432x288 with 1 Axes>"
            ]
          },
          "metadata": {
            "tags": [],
            "needs_background": "light"
          }
        },
        {
          "output_type": "display_data",
          "data": {
            "image/png": "[encoded data removed]",
            "text/plain": [
              "<Figure size 432x288 with 1 Axes>"
            ]
          },
          "metadata": {
            "tags": [],
            "needs_background": "light"
          }
        }
      ]
    },
    {
      "cell_type": "code",
      "metadata": {
        "id": "7SBdAZAenvzL",
        "colab": {
          "base_uri": "https://localhost:8080/"
        },
        "outputId": "b3eb4f06-9b8d-4c56-e807-34ff34cdd215"
      },
      "source": [
        "reverse_word_index = dict([(value, key) for (key, value) in word_index.items()])\n",
        "\n",
        "def decode_sentence(text):\n",
        "    return ' '.join([reverse_word_index.get(i, '?') for i in text])\n",
        "\n",
        "print(decode_sentence(training_padded[0]))\n",
        "print(training_sentences[2])\n",
        "print(labels[2])"
      ],
      "execution_count": 13,
      "outputs": [
        {
          "output_type": "stream",
          "text": [
            "former <OOV> store clerk sues over secret 'black <OOV> for minority shoppers ? ? ? ? ? ? ? ? ? ? ? ? ? ? ? ? ? ? ? ? ? ? ? ? ? ? ? ? ? ? ? ? ? ? ? ? ? ? ? ? ? ? ? ? ? ? ? ? ? ? ? ? ? ? ? ? ? ? ? ? ? ? ? ? ? ? ? ? ? ? ? ? ? ? ? ? ? ? ? ? ? ? ? ? ? ? ? ?\n",
            "mom starting to fear son's web series closest thing she will have to grandchild\n",
            "1\n"
          ],
          "name": "stdout"
        }
      ]
    },
    {
      "cell_type": "code",
      "metadata": {
        "id": "c9MqihtEkzQ9",
        "colab": {
          "base_uri": "https://localhost:8080/"
        },
        "outputId": "8b4c924e-382e-46da-a4f2-bd3c360f0538"
      },
      "source": [
        "e = model.layers[0]\n",
        "weights = e.get_weights()[0]\n",
        "print(weights.shape) # shape: (vocab_size, embedding_dim)\n"
      ],
      "execution_count": 14,
      "outputs": [
        {
          "output_type": "stream",
          "text": [
            "(10000, 16)\n"
          ],
          "name": "stdout"
        }
      ]
    },
    {
      "cell_type": "code",
      "metadata": {
        "id": "LoBXVffknldU"
      },
      "source": [
        "import io\n",
        "\n",
        "out_v = io.open('vecs.tsv', 'w', encoding='utf-8')\n",
        "out_m = io.open('meta.tsv', 'w', encoding='utf-8')\n",
        "for word_num in range(1, vocab_size):\n",
        "  word = reverse_word_index[word_num]\n",
        "  embeddings = weights[word_num]\n",
        "  out_m.write(word + \"\\n\")\n",
        "  out_v.write('\\t'.join([str(x) for x in embeddings]) + \"\\n\")\n",
        "out_v.close()\n",
        "out_m.close()"
      ],
      "execution_count": 15,
      "outputs": []
    },
    {
      "cell_type": "code",
      "metadata": {
        "id": "U4eZ5HtVnnEE"
      },
      "source": [
        "try:\n",
        "  from google.colab import files\n",
        "except ImportError:\n",
        "  pass\n",
        "else:\n",
        "  files.download('vecs.tsv')\n",
        "  files.download('meta.tsv')"
      ],
      "execution_count": null,
      "outputs": []
    },
    {
      "cell_type": "code",
      "metadata": {
        "id": "cG8-ArY-qDcz"
      },
      "source": [
        "sentence = [\"granny starting to fear spiders in the garden might be real\", \"game of thrones season finale showing this sunday night\"]\n",
        "sequences = tokenizer.texts_to_sequences(sentence)\n",
        "padded = pad_sequences(sequences, maxlen=max_length, padding=padding_type, truncating=trunc_type)\n",
        "print(model.predict(padded))"
      ],
      "execution_count": null,
      "outputs": []
    }
  ]
}